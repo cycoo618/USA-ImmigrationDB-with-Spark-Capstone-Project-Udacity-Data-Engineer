{
 "cells": [
  {
   "cell_type": "markdown",
   "metadata": {
    "editable": true
   },
   "source": [
    "## Exploratory Analysis in Pandas\n",
    "##### Please use this notebook when loading a subset of immigration data. If the full dataset was loaded, please use spark SQL to get the subset of the data before running analysis."
   ]
  },
  {
   "cell_type": "code",
   "execution_count": null,
   "metadata": {
    "editable": true
   },
   "outputs": [],
   "source": [
    "# Import packages\n",
    "import pandas as pd\n",
    "from pyspark.sql import SparkSession\n",
    "from pyspark.sql.functions import udf\n",
    "from pyspark.sql.types import StringType\n",
    "from pyspark.sql.types import IntegerType\n",
    "from pyspark.sql.functions import desc\n",
    "from pyspark.sql.functions import asc\n",
    "from pyspark.sql.functions import sum as Fsum\n",
    "import configparser\n",
    "from datetime import datetime\n",
    "import os\n",
    "import numpy as np\n",
    "import seaborn as sns\n",
    "import matplotlib.pyplot as plt"
   ]
  },
  {
   "cell_type": "code",
   "execution_count": 2,
   "metadata": {
    "editable": true
   },
   "outputs": [],
   "source": [
    "# Create Spark session\n",
    "spark = SparkSession \\\n",
    "    .builder \\\n",
    "    .config(\"spark.driver.memory\", \"30g\") \\\n",
    "    .config('spark.executor.memory','8g') \\\n",
    "    .config('spark.driver.maxResultsSize','0')\\\n",
    "    .appName(\"Analysis of Immigration Data\") \\\n",
    "    .getOrCreate()"
   ]
  },
  {
   "cell_type": "code",
   "execution_count": 3,
   "metadata": {
    "editable": true
   },
   "outputs": [],
   "source": [
    "# Assign table names\n",
    "table_name = ['immigration','demographic','state_race','time','mode','visa','port','country','temperature']"
   ]
  },
  {
   "cell_type": "code",
   "execution_count": 4,
   "metadata": {
    "editable": true
   },
   "outputs": [],
   "source": [
    "# Create views for all tables\n",
    "for table in table_name:\n",
    "    df_table=spark.read.parquet(\"./parquet files/\"+table)\n",
    "    df_table.createOrReplaceTempView(table)\n",
    "    count_rows = spark.sql('''\n",
    "        SELECT count(*) FROM {}'''.format(table))\n",
    "    if count_rows.collect()[0][0] == 0:\n",
    "        raise ValueError(\"Data quality check failed. {} returned no results\").format(table)"
   ]
  },
  {
   "cell_type": "code",
   "execution_count": 5,
   "metadata": {
    "editable": true
   },
   "outputs": [],
   "source": [
    "# immigration data\n",
    "imm = spark.sql('''\n",
    "    select cicid, \n",
    "    c.name as citizen_country,\n",
    "    c.continent as citizen_continent,\n",
    "    r.name as residential_country,\n",
    "    m.mode,\n",
    "    address_state,\n",
    "    arrival_date,\n",
    "    t.month as arrival_month,\n",
    "    t.weekday as arrival_weekday,\n",
    "    depart_date,\n",
    "    age,\n",
    "    birth_year,\n",
    "    dpmt_visa,\n",
    "    occupation,\n",
    "    visa_expiry_date,\n",
    "    gender,\n",
    "    airline,\n",
    "    p.city,\n",
    "    p.state,\n",
    "    v.visa,\n",
    "    visa_code\n",
    "    from immigration i\n",
    "    inner join country c on c.code = i.cit_ctry\n",
    "    inner join country r on r.code = i.res_ctry\n",
    "    inner join mode m on m.code = i.trnps_mode_code\n",
    "    inner join port p on p.code = i.port_code\n",
    "    inner join visa v on v.code = i.visa\n",
    "    inner join time t on t.date = i.arrival_date\n",
    "    where gender in ('F','M') \n",
    "    and depart_date is not null \n",
    "    and age is not null\n",
    "''')"
   ]
  },
  {
   "cell_type": "code",
   "execution_count": 7,
   "metadata": {
    "editable": true
   },
   "outputs": [
    {
     "name": "stdout",
     "output_type": "stream",
     "text": [
      "root\n",
      " |-- cicid: integer (nullable = true)\n",
      " |-- citizen_country: string (nullable = true)\n",
      " |-- citizen_continent: string (nullable = true)\n",
      " |-- residential_country: string (nullable = true)\n",
      " |-- mode: string (nullable = true)\n",
      " |-- address_state: string (nullable = true)\n",
      " |-- arrival_date: date (nullable = true)\n",
      " |-- arrival_month: integer (nullable = true)\n",
      " |-- arrival_weekday: integer (nullable = true)\n",
      " |-- depart_date: date (nullable = true)\n",
      " |-- age: integer (nullable = true)\n",
      " |-- birth_year: integer (nullable = true)\n",
      " |-- dpmt_visa: string (nullable = true)\n",
      " |-- occupation: string (nullable = true)\n",
      " |-- visa_expiry_date: date (nullable = true)\n",
      " |-- gender: string (nullable = true)\n",
      " |-- airline: string (nullable = true)\n",
      " |-- city: string (nullable = true)\n",
      " |-- state: string (nullable = true)\n",
      " |-- visa: string (nullable = true)\n",
      " |-- visa_code: string (nullable = true)\n",
      "\n"
     ]
    }
   ],
   "source": [
    "imm.printSchema()"
   ]
  },
  {
   "cell_type": "code",
   "execution_count": null,
   "metadata": {
    "editable": true
   },
   "outputs": [],
   "source": [
    "imm_df=imm.toPandas()"
   ]
  },
  {
   "cell_type": "code",
   "execution_count": null,
   "metadata": {
    "editable": true
   },
   "outputs": [],
   "source": [
    "imm_df.head()"
   ]
  },
  {
   "cell_type": "markdown",
   "metadata": {
    "editable": true
   },
   "source": [
    "#### Cleaning"
   ]
  },
  {
   "cell_type": "code",
   "execution_count": null,
   "metadata": {
    "editable": true
   },
   "outputs": [],
   "source": [
    "# Check missing age\n",
    "len(imm_df[imm_df['age'].isna()])"
   ]
  },
  {
   "cell_type": "code",
   "execution_count": null,
   "metadata": {
    "editable": true
   },
   "outputs": [],
   "source": [
    "# Check gender field's validity\n",
    "imm_df['gender'].unique()"
   ]
  },
  {
   "cell_type": "code",
   "execution_count": null,
   "metadata": {
    "editable": true
   },
   "outputs": [],
   "source": [
    "# Check how many rows do not have depart_date\n",
    "len(imm_df[imm_df['depart_date'].isna()])"
   ]
  },
  {
   "cell_type": "code",
   "execution_count": null,
   "metadata": {
    "editable": true
   },
   "outputs": [],
   "source": [
    "# Data Cleaning - remove the lines do not have a depart date\n",
    "imm_df_dn=imm_df[imm_df['depart_date'].notna()]"
   ]
  },
  {
   "cell_type": "code",
   "execution_count": null,
   "metadata": {
    "editable": true
   },
   "outputs": [],
   "source": [
    "# Data Cleaning - Remove missing/invalid gender\n",
    "imm_df_dn=imm_df_dn[imm_df_dn['gender'].notna()]\n",
    "imm_df_dn=imm_df_dn[(imm_df_dn['gender']=='F')|(imm_df_dn['gender']=='M')]"
   ]
  },
  {
   "cell_type": "code",
   "execution_count": null,
   "metadata": {
    "editable": true
   },
   "outputs": [],
   "source": [
    "# Function for annotation\n",
    "def show_values_on_bars(axs):\n",
    "    def _show_on_single_plot(ax):        \n",
    "        for p in ax.patches:\n",
    "            _x = p.get_x() + p.get_width() / 2\n",
    "            _y = p.get_y() + p.get_height()\n",
    "            value = '{:.2f}'.format(p.get_height())\n",
    "            ax.text(_x, _y, value, ha=\"center\",fontsize=12) \n",
    "\n",
    "    if isinstance(axs, np.ndarray):\n",
    "        for idx, ax in np.ndenumerate(axs):\n",
    "            _show_on_single_plot(ax)\n",
    "    else:\n",
    "        _show_on_single_plot(axs)\n",
    "\n",
    "#fig, ax = plt.subplots(1, 2)\n",
    "#show_values_on_bars(ax)"
   ]
  },
  {
   "cell_type": "markdown",
   "metadata": {
    "editable": true
   },
   "source": [
    "#### Q: Top 10 country visited U.S"
   ]
  },
  {
   "cell_type": "code",
   "execution_count": null,
   "metadata": {
    "editable": true
   },
   "outputs": [],
   "source": [
    "top_ctry=imm_df_dn['citizen_country'].value_counts()[:10]\n",
    "fig,ax = plt.subplots(figsize=(12,4))\n",
    "sns.barplot(top_ctry.index,top_ctry.values,palette = 'coolwarm')\n",
    "plt.tight_layout()\n",
    "plt.title(\"Top 10 countries visited U.S\",fontsize=15)\n",
    "plt.xticks(fontsize=15,rotation=25)\n",
    "plt.yticks(fontsize=15)\n",
    "show_values_on_bars(ax)"
   ]
  },
  {
   "cell_type": "markdown",
   "metadata": {
    "editable": true
   },
   "source": [
    "##### A: UK contributes the most visitors to U.S"
   ]
  },
  {
   "cell_type": "markdown",
   "metadata": {
    "editable": true
   },
   "source": [
    "#### Q: Top 20 States visited in U.S"
   ]
  },
  {
   "cell_type": "code",
   "execution_count": null,
   "metadata": {
    "editable": true
   },
   "outputs": [],
   "source": [
    "top20_state=imm_df_dn['address_state'].value_counts()[:20]\n",
    "fig,ax1 = plt.subplots(figsize=(12,4))\n",
    "sns.barplot(top20_state.index,top20_state.values,palette = 'coolwarm')\n",
    "plt.tight_layout()\n",
    "plt.title(\"Top 20 States visited in U.S\",fontsize=15)\n",
    "plt.xticks(fontsize=12,rotation=25)\n",
    "plt.yticks(fontsize=12)\n",
    "show_values_on_bars(ax1)"
   ]
  },
  {
   "cell_type": "markdown",
   "metadata": {
    "editable": true
   },
   "source": [
    "##### A: The most popular State being visited is Florida"
   ]
  },
  {
   "cell_type": "markdown",
   "metadata": {
    "editable": true
   },
   "source": [
    "#### Q: When do they usually come to U.S?"
   ]
  },
  {
   "cell_type": "markdown",
   "metadata": {
    "editable": true
   },
   "source": [
    "##### Month"
   ]
  },
  {
   "cell_type": "code",
   "execution_count": null,
   "metadata": {
    "editable": true
   },
   "outputs": [],
   "source": [
    "imm_df_dn['arrival_month'].value_counts()"
   ]
  },
  {
   "cell_type": "code",
   "execution_count": null,
   "metadata": {
    "editable": true
   },
   "outputs": [],
   "source": [
    "sns.countplot(x='arrival_month',data=imm_df_dn)"
   ]
  },
  {
   "cell_type": "markdown",
   "metadata": {
    "editable": true
   },
   "source": [
    "##### Weekday"
   ]
  },
  {
   "cell_type": "code",
   "execution_count": null,
   "metadata": {
    "editable": true
   },
   "outputs": [],
   "source": [
    "imm_df_dn['arrival_weekday'].value_counts()"
   ]
  },
  {
   "cell_type": "code",
   "execution_count": null,
   "metadata": {
    "editable": true
   },
   "outputs": [],
   "source": []
  },
  {
   "cell_type": "code",
   "execution_count": null,
   "metadata": {
    "editable": true
   },
   "outputs": [],
   "source": [
    "sns.countplot(x='arrival_weekday',data=imm_df_dn)"
   ]
  },
  {
   "cell_type": "markdown",
   "metadata": {
    "editable": true
   },
   "source": [
    "##### A: In general, the port were expecting more people on Saturday, and Friday is the second most. Wednesday and Sunday were expecting less people."
   ]
  },
  {
   "cell_type": "code",
   "execution_count": null,
   "metadata": {
    "editable": true
   },
   "outputs": [],
   "source": []
  },
  {
   "cell_type": "markdown",
   "metadata": {
    "editable": true
   },
   "source": [
    "#### Q: How long did they stay?"
   ]
  },
  {
   "cell_type": "code",
   "execution_count": null,
   "metadata": {
    "editable": true
   },
   "outputs": [],
   "source": [
    "imm_df_dn['stay_len']=(imm_df_dn['depart_date']- imm_df_dn['arrival_date']).apply(lambda x: int(str(x).split(' ')[0]))"
   ]
  },
  {
   "cell_type": "code",
   "execution_count": null,
   "metadata": {
    "editable": true
   },
   "outputs": [],
   "source": [
    "plt.figure(figsize=(12,5))\n",
    "sns.distplot(imm_df_dn['stay_len'],bins=50)"
   ]
  },
  {
   "cell_type": "code",
   "execution_count": null,
   "metadata": {
    "editable": true
   },
   "outputs": [],
   "source": [
    "imm_df_dn['visa'].unique()"
   ]
  },
  {
   "cell_type": "code",
   "execution_count": null,
   "metadata": {
    "editable": true
   },
   "outputs": [],
   "source": [
    "imm_df_dn['visa_code'].value_counts()"
   ]
  },
  {
   "cell_type": "code",
   "execution_count": null,
   "metadata": {
    "editable": true
   },
   "outputs": [],
   "source": [
    "sns.boxplot(x='visa',y='stay_len',data=imm_df_dn,palette='coolwarm')"
   ]
  },
  {
   "cell_type": "code",
   "execution_count": null,
   "metadata": {
    "editable": true
   },
   "outputs": [],
   "source": [
    "imm_df_dn['gender'].unique()"
   ]
  },
  {
   "cell_type": "code",
   "execution_count": null,
   "metadata": {
    "editable": true
   },
   "outputs": [],
   "source": [
    "sns.boxplot(x='visa',y='stay_len',data=imm_df_dn,hue='gender',palette='coolwarm')"
   ]
  },
  {
   "cell_type": "code",
   "execution_count": null,
   "metadata": {
    "editable": true
   },
   "outputs": [],
   "source": [
    "sns.boxplot(x='visa_code',y='stay_len',data=imm_df_dn,palette='coolwarm',hue='gender')"
   ]
  },
  {
   "cell_type": "code",
   "execution_count": null,
   "metadata": {
    "editable": true
   },
   "outputs": [],
   "source": [
    "sns.boxplot(x='mode',y='stay_len',data=imm_df_dn,palette='coolwarm')"
   ]
  },
  {
   "cell_type": "code",
   "execution_count": null,
   "metadata": {
    "editable": true
   },
   "outputs": [],
   "source": [
    "sns.distplot(imm_df_dn['age'],bins=80)"
   ]
  },
  {
   "cell_type": "code",
   "execution_count": null,
   "metadata": {
    "editable": true
   },
   "outputs": [],
   "source": [
    "#plt.scatter(data=imm_df_dn,x='age',y='stay_len')"
   ]
  },
  {
   "cell_type": "code",
   "execution_count": null,
   "metadata": {
    "editable": true
   },
   "outputs": [],
   "source": [
    "#plt.hist(imm_df_dn[imm_df_dn['mode']=='Air']['stay_len'],bins=50,alpha=0.5,color='blue')\n",
    "#plt.hist(imm_df_dn[imm_df_dn['mode']=='Land']['stay_len'],bins=50,alpha=0.5,color='red')\n",
    "#plt.hist(imm_df_dn[imm_df_dn['mode']=='Sea']['stay_len'],bins=50,alpha=0.5,color='yellow')"
   ]
  },
  {
   "cell_type": "code",
   "execution_count": null,
   "metadata": {
    "editable": true
   },
   "outputs": [],
   "source": [
    "imm_df_dn['gender'].value_counts()"
   ]
  },
  {
   "cell_type": "code",
   "execution_count": null,
   "metadata": {
    "editable": true
   },
   "outputs": [],
   "source": [
    "df=imm_df_dn1[['cicid','citizen_country','gender']].groupby(['citizen_country','gender']).count().reset_index()\n",
    "df.head()"
   ]
  },
  {
   "cell_type": "code",
   "execution_count": null,
   "metadata": {
    "editable": true
   },
   "outputs": [],
   "source": [
    "top10=imm_df_dn1['citizen_country'].value_counts()[:10]"
   ]
  },
  {
   "cell_type": "code",
   "execution_count": null,
   "metadata": {
    "editable": true
   },
   "outputs": [],
   "source": [
    "top10_df=df[df['citizen_country'].isin(list(top10.index))].reset_index(drop=True)"
   ]
  },
  {
   "cell_type": "code",
   "execution_count": null,
   "metadata": {
    "editable": true
   },
   "outputs": [],
   "source": [
    "plt.figure(figsize=(15,5))\n",
    "sns.barplot(data=top10_df,x='citizen_country',y='cicid',order = list(top10.index),hue='gender')"
   ]
  },
  {
   "cell_type": "code",
   "execution_count": null,
   "metadata": {
    "editable": true
   },
   "outputs": [],
   "source": [
    "sns.jointplot(x='age',y='stay_len',data=imm_df_dn,kind='hex')"
   ]
  },
  {
   "cell_type": "code",
   "execution_count": null,
   "metadata": {
    "editable": true
   },
   "outputs": [],
   "source": [
    "ocpt_df=imm_df_dn['occupation'].notna()"
   ]
  },
  {
   "cell_type": "code",
   "execution_count": null,
   "metadata": {
    "editable": true
   },
   "outputs": [],
   "source": [
    "len(imm_df_dn[imm_df_dn['occupation'].notna()])"
   ]
  },
  {
   "cell_type": "code",
   "execution_count": null,
   "metadata": {
    "editable": true
   },
   "outputs": [],
   "source": []
  },
  {
   "cell_type": "code",
   "execution_count": null,
   "metadata": {
    "editable": true
   },
   "outputs": [],
   "source": []
  },
  {
   "cell_type": "code",
   "execution_count": null,
   "metadata": {
    "editable": true
   },
   "outputs": [],
   "source": []
  }
 ],
 "metadata": {
  "kernelspec": {
   "display_name": "Python 3",
   "language": "python",
   "name": "python3"
  },
  "language_info": {
   "codemirror_mode": {
    "name": "ipython",
    "version": 3
   },
   "file_extension": ".py",
   "mimetype": "text/x-python",
   "name": "python",
   "nbconvert_exporter": "python",
   "pygments_lexer": "ipython3",
   "version": "3.6.3"
  }
 },
 "nbformat": 4,
 "nbformat_minor": 4
}
